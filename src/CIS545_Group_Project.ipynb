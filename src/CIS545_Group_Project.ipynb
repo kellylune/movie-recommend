{
  "nbformat": 4,
  "nbformat_minor": 0,
  "metadata": {
    "colab": {
      "name": "CIS545 Group Project.ipynb",
      "provenance": [],
      "collapsed_sections": [],
      "toc_visible": true
    },
    "kernelspec": {
      "name": "python3",
      "display_name": "Python 3"
    }
  },
  "cells": [
    {
      "cell_type": "markdown",
      "metadata": {
        "id": "A7ii5PyDwULV"
      },
      "source": [
        "## Introduction\n",
        "\n",
        ">\n",
        ">\n",
        ">\n",
        ">\n",
        ">\n",
        "\n",
        "Hi, and welcome to our CIS 545 Project! \n",
        "\n",
        "Our group members are :\n",
        "- Kelly Liang\n",
        "- Henry Hung\n",
        "- Kun Hwi Ko\n",
        "\n",
        "Today, we are here to do the following :\n",
        "\n",
        "* Step 1 : Navigate through a movies dataset, and clean for necessary data \n",
        "* Step 2 : Visualize the data to get initial insights \n",
        "* Step 3 : Reformat the data to be compatible for machine learning \n",
        "* Step 4 : Use K-Means Clustering to forecast what movies users will like  "
      ]
    },
    {
      "cell_type": "markdown",
      "metadata": {
        "id": "fGuTlL1bwMfz"
      },
      "source": [
        "## Packages / Setup"
      ]
    },
    {
      "cell_type": "code",
      "metadata": {
        "id": "35BdjUbVwSLJ",
        "colab": {
          "base_uri": "https://localhost:8080/"
        },
        "outputId": "de2e2e77-1d26-472a-b841-a456788c3372"
      },
      "source": [
        "# data cleaning and visualization packages \n",
        "!pip install pandasql\n",
        "import collections \n",
        "import numpy as np \n",
        "import pandas as pd\n",
        "import pandasql as ps \n",
        "import re \n",
        "import matplotlib.pyplot as plt \n",
        "import seaborn as sns  \n",
        "\n",
        "# machine learning packages \n",
        "import sklearn\n"
      ],
      "execution_count": 214,
      "outputs": [
        {
          "output_type": "stream",
          "text": [
            "Requirement already satisfied: pandasql in /usr/local/lib/python3.6/dist-packages (0.7.3)\n",
            "Requirement already satisfied: pandas in /usr/local/lib/python3.6/dist-packages (from pandasql) (1.1.4)\n",
            "Requirement already satisfied: numpy in /usr/local/lib/python3.6/dist-packages (from pandasql) (1.18.5)\n",
            "Requirement already satisfied: sqlalchemy in /usr/local/lib/python3.6/dist-packages (from pandasql) (1.3.20)\n",
            "Requirement already satisfied: pytz>=2017.2 in /usr/local/lib/python3.6/dist-packages (from pandas->pandasql) (2018.9)\n",
            "Requirement already satisfied: python-dateutil>=2.7.3 in /usr/local/lib/python3.6/dist-packages (from pandas->pandasql) (2.8.1)\n",
            "Requirement already satisfied: six>=1.5 in /usr/local/lib/python3.6/dist-packages (from python-dateutil>=2.7.3->pandas->pandasql) (1.15.0)\n"
          ],
          "name": "stdout"
        }
      ]
    },
    {
      "cell_type": "code",
      "metadata": {
        "id": "DNmSnATG0pRe",
        "colab": {
          "resources": {
            "http://localhost:8080/nbextensions/google.colab/files.js": {
              "data": "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",
              "ok": true,
              "headers": [
                [
                  "content-type",
                  "application/javascript"
                ]
              ],
              "status": 200,
              "status_text": ""
            }
          },
          "base_uri": "https://localhost:8080/",
          "height": 39
        },
        "outputId": "8ef85aa8-efb4-4b17-e88d-937ed148e81f"
      },
      "source": [
        "# Step 1 : install dependencies \n",
        "!pip install -q kaggle \n",
        "\n",
        "# Step 2 : create API Token from Kaggle and upload Kaggle.json \n",
        "# Instructions : https://www.kaggle.com/general/74235\n",
        "from google.colab import files \n",
        "files.upload()\n"
      ],
      "execution_count": null,
      "outputs": [
        {
          "output_type": "display_data",
          "data": {
            "text/html": [
              "\n",
              "     <input type=\"file\" id=\"files-2f730467-f62d-478f-9a4e-57f62a558640\" name=\"files[]\" multiple disabled\n",
              "        style=\"border:none\" />\n",
              "     <output id=\"result-2f730467-f62d-478f-9a4e-57f62a558640\">\n",
              "      Upload widget is only available when the cell has been executed in the\n",
              "      current browser session. Please rerun this cell to enable.\n",
              "      </output>\n",
              "      <script src=\"/nbextensions/google.colab/files.js\"></script> "
            ],
            "text/plain": [
              "<IPython.core.display.HTML object>"
            ]
          },
          "metadata": {
            "tags": []
          }
        }
      ]
    },
    {
      "cell_type": "code",
      "metadata": {
        "colab": {
          "base_uri": "https://localhost:8080/"
        },
        "id": "Xhvxz1oqe7HC",
        "outputId": "2be6d299-970b-45df-8845-3dcff9c8b173"
      },
      "source": [
        "# Step 3: additional steps \n",
        "!mkdir ~/.kaggle \n",
        "!cp kaggle.json ~/.kaggle/\n",
        "!chmod 600 ~/.kaggle/kaggle.json\n",
        "\n",
        "# Step 4 : download the dataset \n",
        "# https://www.kaggle.com/rounakbanik/the-movies-dataset\n",
        "!kaggle datasets download -d rounakbanik/the-movies-dataset\n",
        "\n",
        "# Step 5 : Unzip the files \n",
        "!unzip the-movies-dataset.zip"
      ],
      "execution_count": null,
      "outputs": [
        {
          "output_type": "stream",
          "text": [
            "mkdir: cannot create directory ‘/root/.kaggle’: File exists\n",
            "User cancelled operation\n",
            "Archive:  the-movies-dataset.zip\n",
            "replace credits.csv? [y]es, [n]o, [A]ll, [N]one, [r]ename: n\n",
            "replace keywords.csv? [y]es, [n]o, [A]ll, [N]one, [r]ename: n\n",
            "replace links.csv? [y]es, [n]o, [A]ll, [N]one, [r]ename: n\n",
            "replace links_small.csv? [y]es, [n]o, [A]ll, [N]one, [r]ename: n\n",
            "replace movies_metadata.csv? [y]es, [n]o, [A]ll, [N]one, [r]ename: n\n",
            "replace ratings.csv? [y]es, [n]o, [A]ll, [N]one, [r]ename: n\n",
            "replace ratings_small.csv? [y]es, [n]o, [A]ll, [N]one, [r]ename: n\n"
          ],
          "name": "stdout"
        }
      ]
    },
    {
      "cell_type": "markdown",
      "metadata": {
        "id": "umno-egbhhri"
      },
      "source": [
        "## Data Cleansing"
      ]
    },
    {
      "cell_type": "code",
      "metadata": {
        "colab": {
          "base_uri": "https://localhost:8080/"
        },
        "id": "r8mN6krqyy-8",
        "outputId": "59930873-9b4a-4f71-ac3e-43d9c908ac19"
      },
      "source": [
        "# retrieve Kaggle data \n",
        "\n",
        "ratings_df = pd.read_csv(\"/content/ratings.csv\")\n",
        "keywords_df = pd.read_csv(\"/content/keywords.csv\")\n",
        "movies_df = pd.read_csv(\"/content/movies_metadata.csv\")"
      ],
      "execution_count": 197,
      "outputs": [
        {
          "output_type": "stream",
          "text": [
            "/usr/local/lib/python3.6/dist-packages/IPython/core/interactiveshell.py:2718: DtypeWarning: Columns (10) have mixed types.Specify dtype option on import or set low_memory=False.\n",
            "  interactivity=interactivity, compiler=compiler, result=result)\n"
          ],
          "name": "stderr"
        }
      ]
    },
    {
      "cell_type": "code",
      "metadata": {
        "id": "nj8by9Dzh6L9"
      },
      "source": [
        "# cleansing keywords\n",
        "\n",
        "# Step 1 : get rid of rows without any keywords \n",
        "keywords_df = keywords_df[keywords_df['keywords'] != '[]']\n",
        "\n",
        "# Step 2 : convert str --> [array of words]\n",
        "def str_parser(strs):\n",
        "  res = re.findall(\"name': '(.*?)'\", strs)\n",
        "  return res if res else None \n",
        "\n",
        "keywords_df['keywords'] = keywords_df['keywords'].apply(lambda x : str_parser(x))\n",
        "keywords_df.dropna(inplace=True)"
      ],
      "execution_count": 198,
      "outputs": []
    },
    {
      "cell_type": "code",
      "metadata": {
        "id": "lqhJGkEtuoro"
      },
      "source": [
        "# cleansing movies\n",
        "\n",
        "# Step 1 : drop unnecessary columns \n",
        "movies_df.drop(columns = ['adult', 'belongs_to_collection', 'budget', 'homepage', \\\n",
        "                          'imdb_id', 'original_language', 'original_title', 'overview', \\\n",
        "                          'poster_path', 'production_countries', 'release_date', 'revenue', \\\n",
        "                          'runtime', 'spoken_languages', 'status', 'tagline', 'video'], inplace = True)"
      ],
      "execution_count": 199,
      "outputs": []
    },
    {
      "cell_type": "code",
      "metadata": {
        "colab": {
          "base_uri": "https://localhost:8080/",
          "height": 369
        },
        "id": "y3NpM8BmH8l5",
        "outputId": "bcd5a1a0-12fd-4116-c7db-6151fdc7fc0e"
      },
      "source": [
        "# Step 2: drop movies that not many people have watched as it can create bias \n",
        "sns.displot(movies_df, x = \"vote_count\", bins = [i for i in range(0, 60, 3)])\n",
        "vote_threshold = 3\n",
        "movies_df = movies_df[movies_df['vote_count'] >= vote_threshold]"
      ],
      "execution_count": 200,
      "outputs": [
        {
          "output_type": "display_data",
          "data": {
            "image/png": "[encoded data removed]",
            "text/plain": [
              "<Figure size 360x360 with 1 Axes>"
            ]
          },
          "metadata": {
            "tags": [],
            "needs_background": "light"
          }
        }
      ]
    },
    {
      "cell_type": "code",
      "metadata": {
        "colab": {
          "base_uri": "https://localhost:8080/",
          "height": 369
        },
        "id": "2u2iRzfNW3FY",
        "outputId": "05472f69-77f2-4482-a562-a5f6aaa8512c"
      },
      "source": [
        "# Step 3: drop non-popular movies as they will likely not be recommended\n",
        "movies_df['popularity'] = movies_df['popularity'].apply(lambda x : float(x))\n",
        "sns.displot(movies_df, x = \"popularity\", bins = [i*0.3 for i in range(1, 60)])\n",
        "popular_threshold = 0.6\n",
        "movies_df = movies_df[movies_df['popularity'] >= popular_threshold]"
      ],
      "execution_count": 201,
      "outputs": [
        {
          "output_type": "display_data",
          "data": {
            "image/png": "[encoded data removed]",
            "text/plain": [
              "<Figure size 360x360 with 1 Axes>"
            ]
          },
          "metadata": {
            "tags": [],
            "needs_background": "light"
          }
        }
      ]
    },
    {
      "cell_type": "code",
      "metadata": {
        "id": "WOg2AEF8G3X0"
      },
      "source": [
        "# Step 4 : convert str --> [array of words]\n",
        "movies_df['genres'] = movies_df['genres'].apply(lambda x : str_parser(x))\n",
        "movies_df.dropna(inplace=True)\n",
        "\n",
        "movies_df['production_companies'] = movies_df['production_companies'].apply(lambda x : str_parser(x))\n",
        "movies_df.dropna(inplace=True)"
      ],
      "execution_count": 202,
      "outputs": []
    },
    {
      "cell_type": "code",
      "metadata": {
        "id": "yC5lfZP95dEd"
      },
      "source": [
        "# join movies_df and keywords_df \n",
        "movies_df['genres'] = movies_df['genres'].apply(lambda x : str(x))\n",
        "movies_df['production_companies'] = movies_df['production_companies'].apply(lambda x : str(x))\n",
        "keywords_df['keywords'] = keywords_df['keywords'].apply(lambda x : str(x)) \n",
        "\n",
        "query = '''\n",
        "select m.id, title, \n",
        "production_companies, genres,\n",
        "keywords, popularity, \n",
        "vote_average, vote_count\n",
        "from movies_df as m\n",
        "join keywords_df as k\n",
        "on m.id = k.id\n",
        "'''\n",
        "\n",
        "movies_df = ps.sqldf(query, locals())"
      ],
      "execution_count": 203,
      "outputs": []
    },
    {
      "cell_type": "code",
      "metadata": {
        "id": "RPewhyAvKMra"
      },
      "source": [
        "# cleansing ratings \n",
        "\n",
        "# Step 1 : ratings_df is a very large dataset sorted by userId \n",
        "# we do not need to use all of the users as part of training \n",
        "ratings_df = ratings_df[ratings_df['userId'] <= 10000]\n",
        "\n",
        "# Step 2 : drop unnecessary columns \n",
        "ratings_df.drop(columns = ['timestamp'], inplace=True) "
      ],
      "execution_count": 206,
      "outputs": []
    },
    {
      "cell_type": "code",
      "metadata": {
        "id": "KahiCRhuY3Kg"
      },
      "source": [
        "# Step 3 : get rid of ratings for movies not in movies_df \n",
        "\n",
        "query = '''\n",
        "select * \n",
        "from ratings_df \n",
        "where movieId not in (\n",
        "  select id \n",
        "  from movies_df\n",
        ")\n",
        "'''\n",
        "\n",
        "ratings_df = ps.sqldf(query, locals())"
      ],
      "execution_count": 209,
      "outputs": []
    },
    {
      "cell_type": "code",
      "metadata": {
        "id": "8azr20irZ23I"
      },
      "source": [
        "# Step 4 : get rid of movies not rated in ratings_df \n",
        "query = '''\n",
        "select * \n",
        "from movies_df \n",
        "where id not in (\n",
        "  select movieId \n",
        "  from ratings_df\n",
        ")\n",
        "'''\n",
        "\n",
        "movies_df = ps.sqldf(query, locals())"
      ],
      "execution_count": null,
      "outputs": []
    },
    {
      "cell_type": "code",
      "metadata": {
        "id": "RcWg2cwEZ4os"
      },
      "source": [
        "# Finally convert columns to how we want them \n",
        "movies_df['genres'] = movies_df['genres'].apply(lambda x : eval(\"[\" + x[1:-1] + \"]\")) \n",
        "movies_df['production_companies'] = movies_df['production_companies'].apply(lambda x : eval(\"[\" + x[1:-1] + \"]\")) \n",
        "keywords_df['keywords'] = keywords_df['keywords'].apply(lambda x : eval(\"[\" + x[1:-1] + \"]\"))"
      ],
      "execution_count": 210,
      "outputs": []
    },
    {
      "cell_type": "markdown",
      "metadata": {
        "id": "AwgFq_AOfdsL"
      },
      "source": [
        "## Data Exploration & Visualization"
      ]
    },
    {
      "cell_type": "code",
      "metadata": {
        "colab": {
          "base_uri": "https://localhost:8080/",
          "height": 400
        },
        "id": "MG8RcINni7UA",
        "outputId": "6127e3f5-da76-4ae5-ef82-79447e8a7ea2"
      },
      "source": [
        "# Is it safe to assume that non-popular production companies didn't make any popular movies?\n",
        "companies = [company for companies in movies_df['production_companies'] for company in companies]\n",
        "freq = collections.Counter(companies)\n",
        "\n",
        "ax = sns.displot(freq, x = freq.values(), bins = [i for i in range(1, 10)])\n",
        "ax.set(xlabel='number of movies made', ylabel='number of companies')"
      ],
      "execution_count": 211,
      "outputs": [
        {
          "output_type": "execute_result",
          "data": {
            "text/plain": [
              "<seaborn.axisgrid.FacetGrid at 0x7f94d36feba8>"
            ]
          },
          "metadata": {
            "tags": []
          },
          "execution_count": 211
        },
        {
          "output_type": "display_data",
          "data": {
            "image/png": "[encoded data removed]",
            "text/plain": [
              "<Figure size 360x360 with 1 Axes>"
            ]
          },
          "metadata": {
            "tags": [],
            "needs_background": "light"
          }
        }
      ]
    },
    {
      "cell_type": "code",
      "metadata": {
        "colab": {
          "base_uri": "https://localhost:8080/",
          "height": 296
        },
        "id": "DoBK5PhTomUi",
        "outputId": "b380a6cf-e0e2-4e58-eef2-2bd51dfc27d2"
      },
      "source": [
        "# from the plot above, we can tell there are a lot of companies that have made just 1 movie \n",
        "# we now check if any of these companies have produced a movie that turned out to be a success \n",
        "\n",
        "large_companies = {k for k,v in freq.items() if v > 1}\n",
        "number_of_rows = movies_df.count()[0]\n",
        "\n",
        "popularity_by_small_companies = []\n",
        "popularity_by_all_companies = []\n",
        "\n",
        "for i in range(number_of_rows):\n",
        "  small = True \n",
        "  for company in movies_df['production_companies'].iloc[i]:\n",
        "    if company in large_companies:\n",
        "      small = False \n",
        "      break \n",
        "  if small:\n",
        "    popularity_by_small_companies.append(movies_df['popularity'].iloc[i])\n",
        "   \n",
        "plt.plot(sorted(popularity_by_small_companies, reverse=True)[:100], label='small companies')  \n",
        "plt.plot(sorted(movies_df['popularity'], reverse=True)[:100], label='all companies') \n",
        "plt.xlabel('ranking'); plt.ylabel('popularity score')\n",
        "plt.legend()\n",
        "      \n"
      ],
      "execution_count": 212,
      "outputs": [
        {
          "output_type": "execute_result",
          "data": {
            "text/plain": [
              "<matplotlib.legend.Legend at 0x7f94d97d8390>"
            ]
          },
          "metadata": {
            "tags": []
          },
          "execution_count": 212
        },
        {
          "output_type": "display_data",
          "data": {
            "image/png": "[encoded data removed]",
            "text/plain": [
              "<Figure size 432x288 with 1 Axes>"
            ]
          },
          "metadata": {
            "tags": [],
            "needs_background": "light"
          }
        }
      ]
    },
    {
      "cell_type": "code",
      "metadata": {
        "id": "9PgPCAro_UbZ"
      },
      "source": [
        "# note that small companies have never made movies within top 100 in popularity\n",
        "# however, starting from the 40th most popular movie, there is not a large discrepency \n",
        "# to prove that small companies make only non-popular movies \n",
        "# therefore, we disregard production companies as a factor for recommending movies \n",
        "\n",
        "movies_df.drop(columns = ['production_companies'], inplace=True)"
      ],
      "execution_count": 213,
      "outputs": []
    }
  ]
}