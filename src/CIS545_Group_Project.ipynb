{
  "nbformat": 4,
  "nbformat_minor": 0,
  "metadata": {
    "colab": {
      "name": "CIS545 Group Project.ipynb",
      "provenance": [],
      "collapsed_sections": [],
      "toc_visible": true
    },
    "kernelspec": {
      "name": "python3",
      "display_name": "Python 3"
    }
  },
  "cells": [
    {
      "cell_type": "markdown",
      "metadata": {
        "id": "A7ii5PyDwULV"
      },
      "source": [
        "## Introduction\n",
        "\n",
        ">\n",
        ">\n",
        ">\n",
        ">\n",
        ">\n",
        "\n",
        "Hi, and welcome to our CIS 545 Project! \n",
        "\n",
        "Our group members are :\n",
        "- Kelly Liang\n",
        "- Henry Hung\n",
        "- Kun Hwi Ko\n",
        "\n",
        "Today, we are here to do the following :\n",
        "\n",
        "* Step 1 : Navigate through a movies dataset, and clean for necessary data \n",
        "* Step 2 : Visualize the data to get initial insights \n",
        "* Step 3 : Reformat the data to be compatible for machine learning \n",
        "* Step 4 : Use K-Means Clustering to forecast what movies users will like  "
      ]
    },
    {
      "cell_type": "markdown",
      "metadata": {
        "id": "fGuTlL1bwMfz"
      },
      "source": [
        "## Packages / Setup"
      ]
    },
    {
      "cell_type": "code",
      "metadata": {
        "id": "35BdjUbVwSLJ",
        "colab": {
          "base_uri": "https://localhost:8080/"
        },
        "outputId": "925482bc-803e-4753-edf1-775781e49769"
      },
      "source": [
        "# data cleaning and visualization packages \n",
        "!pip install pandasql\n",
        "import collections \n",
        "import numpy as np \n",
        "import pandas as pd\n",
        "import pandasql as ps \n",
        "import re \n",
        "import matplotlib.pyplot as plt \n",
        "import seaborn as sns  \n",
        "\n",
        "# machine learning packages \n",
        "import sklearn\n"
      ],
      "execution_count": 289,
      "outputs": [
        {
          "output_type": "stream",
          "text": [
            "Requirement already satisfied: pandasql in /usr/local/lib/python3.6/dist-packages (0.7.3)\n",
            "Requirement already satisfied: sqlalchemy in /usr/local/lib/python3.6/dist-packages (from pandasql) (1.3.20)\n",
            "Requirement already satisfied: numpy in /usr/local/lib/python3.6/dist-packages (from pandasql) (1.18.5)\n",
            "Requirement already satisfied: pandas in /usr/local/lib/python3.6/dist-packages (from pandasql) (1.1.4)\n",
            "Requirement already satisfied: pytz>=2017.2 in /usr/local/lib/python3.6/dist-packages (from pandas->pandasql) (2018.9)\n",
            "Requirement already satisfied: python-dateutil>=2.7.3 in /usr/local/lib/python3.6/dist-packages (from pandas->pandasql) (2.8.1)\n",
            "Requirement already satisfied: six>=1.5 in /usr/local/lib/python3.6/dist-packages (from python-dateutil>=2.7.3->pandas->pandasql) (1.15.0)\n"
          ],
          "name": "stdout"
        }
      ]
    },
    {
      "cell_type": "code",
      "metadata": {
        "id": "DNmSnATG0pRe",
        "colab": {
          "resources": {
            "http://localhost:8080/nbextensions/google.colab/files.js": {
              "data": "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",
              "ok": true,
              "headers": [
                [
                  "content-type",
                  "application/javascript"
                ]
              ],
              "status": 200,
              "status_text": ""
            }
          },
          "base_uri": "https://localhost:8080/",
          "height": 90
        },
        "outputId": "9dd7a50b-5623-4f10-ab09-bf8b9f462271"
      },
      "source": [
        "# Step 1 : install dependencies \n",
        "!pip install -q kaggle \n",
        "\n",
        "# Step 2 : create API Token from Kaggle and upload Kaggle.json \n",
        "# Instructions : https://www.kaggle.com/general/74235\n",
        "from google.colab import files \n",
        "files.upload()\n"
      ],
      "execution_count": null,
      "outputs": [
        {
          "output_type": "display_data",
          "data": {
            "text/html": [
              "\n",
              "     <input type=\"file\" id=\"files-5fdbf38e-6c66-4335-bca1-ecd3d70182ee\" name=\"files[]\" multiple disabled\n",
              "        style=\"border:none\" />\n",
              "     <output id=\"result-5fdbf38e-6c66-4335-bca1-ecd3d70182ee\">\n",
              "      Upload widget is only available when the cell has been executed in the\n",
              "      current browser session. Please rerun this cell to enable.\n",
              "      </output>\n",
              "      <script src=\"/nbextensions/google.colab/files.js\"></script> "
            ],
            "text/plain": [
              "<IPython.core.display.HTML object>"
            ]
          },
          "metadata": {
            "tags": []
          }
        },
        {
          "output_type": "stream",
          "text": [
            "Saving kaggle.json to kaggle.json\n"
          ],
          "name": "stdout"
        },
        {
          "output_type": "execute_result",
          "data": {
            "text/plain": [
              "{'kaggle.json': b'{\"username\":\"kunhwiko\",\"key\":\"ffde2dcdad62441bc64b6f73dbda3ec6\"}'}"
            ]
          },
          "metadata": {
            "tags": []
          },
          "execution_count": 2
        }
      ]
    },
    {
      "cell_type": "code",
      "metadata": {
        "colab": {
          "base_uri": "https://localhost:8080/"
        },
        "id": "Xhvxz1oqe7HC",
        "outputId": "a36965ea-204b-44a6-8b98-b60b2f3fae1c"
      },
      "source": [
        "# Step 3: additional steps \n",
        "!mkdir ~/.kaggle \n",
        "!cp kaggle.json ~/.kaggle/\n",
        "!chmod 600 ~/.kaggle/kaggle.json\n",
        "\n",
        "# Step 4 : download the dataset \n",
        "# https://www.kaggle.com/rounakbanik/the-movies-dataset\n",
        "!kaggle datasets download -d rounakbanik/the-movies-dataset\n",
        "\n",
        "# Step 5 : Unzip the files \n",
        "!unzip the-movies-dataset.zip"
      ],
      "execution_count": null,
      "outputs": [
        {
          "output_type": "stream",
          "text": [
            "Downloading the-movies-dataset.zip to /content\n",
            " 93% 212M/228M [00:02<00:00, 108MB/s] \n",
            "100% 228M/228M [00:02<00:00, 86.0MB/s]\n",
            "Archive:  the-movies-dataset.zip\n",
            "  inflating: credits.csv             \n",
            "  inflating: keywords.csv            \n",
            "  inflating: links.csv               \n",
            "  inflating: links_small.csv         \n",
            "  inflating: movies_metadata.csv     \n",
            "  inflating: ratings.csv             \n",
            "  inflating: ratings_small.csv       \n"
          ],
          "name": "stdout"
        }
      ]
    },
    {
      "cell_type": "markdown",
      "metadata": {
        "id": "umno-egbhhri"
      },
      "source": [
        "## Data Cleansing"
      ]
    },
    {
      "cell_type": "code",
      "metadata": {
        "colab": {
          "base_uri": "https://localhost:8080/"
        },
        "id": "r8mN6krqyy-8",
        "outputId": "7265ef71-18f6-4761-bc55-e1d7bb28be4d"
      },
      "source": [
        "# retrieve Kaggle data \n",
        "\n",
        "ratings_df = pd.read_csv(\"/content/ratings.csv\")\n",
        "keywords_df = pd.read_csv(\"/content/keywords.csv\")\n",
        "movies_df = pd.read_csv(\"/content/movies_metadata.csv\")"
      ],
      "execution_count": 326,
      "outputs": [
        {
          "output_type": "stream",
          "text": [
            "/usr/local/lib/python3.6/dist-packages/IPython/core/interactiveshell.py:2718: DtypeWarning: Columns (10) have mixed types.Specify dtype option on import or set low_memory=False.\n",
            "  interactivity=interactivity, compiler=compiler, result=result)\n"
          ],
          "name": "stderr"
        }
      ]
    },
    {
      "cell_type": "markdown",
      "metadata": {
        "id": "FkczGeoSmDY6"
      },
      "source": [
        "Let's start by cleansing the keywords, movies, and rating dataframe."
      ]
    },
    {
      "cell_type": "code",
      "metadata": {
        "id": "nj8by9Dzh6L9"
      },
      "source": [
        "# cleansing keywords\n",
        "\n",
        "# Step 1 : get rid of rows without any keywords \n",
        "keywords_df = keywords_df[keywords_df['keywords'] != '[]']\n",
        "\n",
        "# Step 2 : convert str --> [array of words]\n",
        "def str_parser(strs):\n",
        "  res = re.findall(\"name': '(.*?)'\", strs)\n",
        "  return res if res else None \n",
        "\n",
        "keywords_df['keywords'] = keywords_df['keywords'].apply(lambda x : str_parser(x))\n",
        "keywords_df.dropna(inplace=True)"
      ],
      "execution_count": 327,
      "outputs": []
    },
    {
      "cell_type": "code",
      "metadata": {
        "id": "lqhJGkEtuoro"
      },
      "source": [
        "# cleansing movies\n",
        "\n",
        "# Step 1 : drop unnecessary columns \n",
        "movies_df.drop(columns = ['adult', 'belongs_to_collection', 'budget', 'homepage', \\\n",
        "                          'imdb_id', 'original_language', 'original_title', 'overview', \\\n",
        "                          'poster_path', 'production_countries', 'release_date', 'revenue', \\\n",
        "                          'runtime', 'spoken_languages', 'status', 'tagline', 'video'], inplace = True)"
      ],
      "execution_count": 328,
      "outputs": []
    },
    {
      "cell_type": "code",
      "metadata": {
        "colab": {
          "base_uri": "https://localhost:8080/",
          "height": 369
        },
        "id": "y3NpM8BmH8l5",
        "outputId": "0494c74e-78fb-41db-83c1-029c920609f7"
      },
      "source": [
        "# Step 2: drop movies that not many people have watched as it can create bias \n",
        "sns.displot(movies_df, x = \"vote_count\", bins = [i for i in range(0, 60, 3)])\n",
        "vote_threshold = 3\n",
        "movies_df = movies_df[movies_df['vote_count'] >= vote_threshold]"
      ],
      "execution_count": 329,
      "outputs": [
        {
          "output_type": "display_data",
          "data": {
            "image/png": "[encoded data removed]",
            "text/plain": [
              "<Figure size 360x360 with 1 Axes>"
            ]
          },
          "metadata": {
            "tags": [],
            "needs_background": "light"
          }
        }
      ]
    },
    {
      "cell_type": "code",
      "metadata": {
        "colab": {
          "base_uri": "https://localhost:8080/",
          "height": 369
        },
        "id": "2u2iRzfNW3FY",
        "outputId": "e3c30da4-dd79-43f4-9001-b9e10c8f6dea"
      },
      "source": [
        "# Step 3: drop non-popular movies as they will likely not be recommended\n",
        "movies_df['popularity'] = movies_df['popularity'].apply(lambda x : float(x))\n",
        "sns.displot(movies_df, x = \"popularity\", bins = [i*0.3 for i in range(1, 60)])\n",
        "popular_threshold = 0.6\n",
        "movies_df = movies_df[movies_df['popularity'] >= popular_threshold]"
      ],
      "execution_count": 330,
      "outputs": [
        {
          "output_type": "display_data",
          "data": {
            "image/png": "[encoded data removed]",
            "text/plain": [
              "<Figure size 360x360 with 1 Axes>"
            ]
          },
          "metadata": {
            "tags": [],
            "needs_background": "light"
          }
        }
      ]
    },
    {
      "cell_type": "code",
      "metadata": {
        "id": "WOg2AEF8G3X0"
      },
      "source": [
        "# Step 4 : convert str --> [array of words]\n",
        "movies_df['genres'] = movies_df['genres'].apply(lambda x : str_parser(x))\n",
        "movies_df.dropna(inplace=True)\n",
        "\n",
        "movies_df['production_companies'] = movies_df['production_companies'].apply(lambda x : str_parser(x))\n",
        "movies_df.dropna(inplace=True)"
      ],
      "execution_count": 331,
      "outputs": []
    },
    {
      "cell_type": "markdown",
      "metadata": {
        "id": "YUwA36uxmRli"
      },
      "source": [
        "Now that movies and keywords have been cleaned, let's join the two together. "
      ]
    },
    {
      "cell_type": "code",
      "metadata": {
        "id": "yC5lfZP95dEd"
      },
      "source": [
        "# join movies_df and keywords_df \n",
        "movies_df['genres'] = movies_df['genres'].apply(lambda x : str(x))\n",
        "movies_df['production_companies'] = movies_df['production_companies'].apply(lambda x : str(x))\n",
        "keywords_df['keywords'] = keywords_df['keywords'].apply(lambda x : str(x)) \n",
        "\n",
        "query = '''\n",
        "select m.id, title, \n",
        "production_companies, genres,\n",
        "keywords, popularity, \n",
        "vote_average, vote_count\n",
        "from movies_df as m\n",
        "join keywords_df as k\n",
        "on m.id = k.id\n",
        "'''\n",
        "\n",
        "movies_df = ps.sqldf(query, locals())"
      ],
      "execution_count": 332,
      "outputs": []
    },
    {
      "cell_type": "code",
      "metadata": {
        "id": "RPewhyAvKMra"
      },
      "source": [
        "# cleansing ratings \n",
        "\n",
        "# Step 1 : ratings_df is a very large dataset sorted by userId \n",
        "# we do not need to use all of the users as part of training \n",
        "ratings_df = ratings_df[ratings_df['userId'] <= 10000]\n",
        "\n",
        "# Step 2 : drop unnecessary columns \n",
        "ratings_df.drop(columns = ['timestamp'], inplace=True) "
      ],
      "execution_count": 333,
      "outputs": []
    },
    {
      "cell_type": "code",
      "metadata": {
        "id": "KahiCRhuY3Kg"
      },
      "source": [
        "# Step 3 : get rid of ratings for movies not in movies_df \n",
        "query = '''\n",
        "select * \n",
        "from ratings_df \n",
        "where movieId in (\n",
        "  select id \n",
        "  from movies_df\n",
        ")\n",
        "'''\n",
        "\n",
        "ratings_df = ps.sqldf(query, locals())"
      ],
      "execution_count": 334,
      "outputs": []
    },
    {
      "cell_type": "code",
      "metadata": {
        "id": "8azr20irZ23I"
      },
      "source": [
        "# Step 4 : get rid of movies not rated in ratings_df \n",
        "query = '''\n",
        "select * \n",
        "from movies_df \n",
        "where id in (\n",
        "  select movieId \n",
        "  from ratings_df\n",
        ")\n",
        "'''\n",
        "\n",
        "movies_df = ps.sqldf(query, locals())"
      ],
      "execution_count": 335,
      "outputs": []
    },
    {
      "cell_type": "code",
      "metadata": {
        "id": "RcWg2cwEZ4os"
      },
      "source": [
        "# Finally convert columns to how we want them \n",
        "movies_df['genres'] = movies_df['genres'].apply(lambda x : eval(\"[\" + x[1:-1] + \"]\")) \n",
        "movies_df['production_companies'] = movies_df['production_companies'].apply(lambda x : eval(\"[\" + x[1:-1] + \"]\")) \n",
        "keywords_df['keywords'] = keywords_df['keywords'].apply(lambda x : eval(\"[\" + x[1:-1] + \"]\"))"
      ],
      "execution_count": 336,
      "outputs": []
    },
    {
      "cell_type": "code",
      "metadata": {
        "colab": {
          "base_uri": "https://localhost:8080/"
        },
        "id": "RVgcKC1duUO3",
        "outputId": "e84f93de-2ad1-49a5-e555-5bd7410e0603"
      },
      "source": [
        "# Make sure we have enough unique users before continuing\n",
        "query = '''\n",
        "select userId, count(movieId)\n",
        "from ratings_df\n",
        "group by userId\n",
        "'''\n",
        "\n",
        "ps.sqldf(query, locals()).shape"
      ],
      "execution_count": 337,
      "outputs": [
        {
          "output_type": "execute_result",
          "data": {
            "text/plain": [
              "(9779, 2)"
            ]
          },
          "metadata": {
            "tags": []
          },
          "execution_count": 337
        }
      ]
    },
    {
      "cell_type": "markdown",
      "metadata": {
        "id": "AwgFq_AOfdsL"
      },
      "source": [
        "## Data Exploration & Visualization"
      ]
    },
    {
      "cell_type": "markdown",
      "metadata": {
        "id": "ILTXLCoPmczy"
      },
      "source": [
        "Is it safe to assume that non-popular production companies didn't make any popular movies? Let's find out. "
      ]
    },
    {
      "cell_type": "code",
      "metadata": {
        "colab": {
          "base_uri": "https://localhost:8080/",
          "height": 400
        },
        "id": "MG8RcINni7UA",
        "outputId": "4f27f7f5-e18b-4d63-b37f-ea7a97f4196d"
      },
      "source": [
        "companies = [company for companies in movies_df['production_companies'] for company in companies]\n",
        "freq = collections.Counter(companies)\n",
        "\n",
        "ax = sns.displot(freq, x = freq.values(), bins = [i for i in range(1, 10)])\n",
        "ax.set(xlabel='number of movies made', ylabel='number of companies')"
      ],
      "execution_count": 338,
      "outputs": [
        {
          "output_type": "execute_result",
          "data": {
            "text/plain": [
              "<seaborn.axisgrid.FacetGrid at 0x7fe629567358>"
            ]
          },
          "metadata": {
            "tags": []
          },
          "execution_count": 338
        },
        {
          "output_type": "display_data",
          "data": {
            "image/png": "[encoded data removed]",
            "text/plain": [
              "<Figure size 360x360 with 1 Axes>"
            ]
          },
          "metadata": {
            "tags": [],
            "needs_background": "light"
          }
        }
      ]
    },
    {
      "cell_type": "markdown",
      "metadata": {
        "id": "23gZcJlVmnsb"
      },
      "source": [
        "From the plot above, we can tell there are a lot of companies that have made just 1 movie.\n",
        "\n",
        "Now let's check if any of these companies have produced a movie that turned out to be a success."
      ]
    },
    {
      "cell_type": "code",
      "metadata": {
        "colab": {
          "base_uri": "https://localhost:8080/",
          "height": 296
        },
        "id": "DoBK5PhTomUi",
        "outputId": "ce858fc2-c289-406c-acdc-cca177b0ba51"
      },
      "source": [
        "large_companies = {k for k,v in freq.items() if v > 1}\n",
        "number_of_rows = movies_df.count()[0]\n",
        "\n",
        "popularity_by_small_companies = []\n",
        "popularity_by_all_companies = []\n",
        "\n",
        "for i in range(number_of_rows):\n",
        "  small = True \n",
        "  for company in movies_df['production_companies'].iloc[i]:\n",
        "    if company in large_companies:\n",
        "      small = False \n",
        "      break \n",
        "  if small:\n",
        "    popularity_by_small_companies.append(movies_df['popularity'].iloc[i])\n",
        "   \n",
        "plt.plot(sorted(popularity_by_small_companies, reverse=True)[:100], label='small companies')  \n",
        "plt.plot(sorted(movies_df['popularity'], reverse=True)[:100], label='all companies') \n",
        "plt.xlabel('ranking'); plt.ylabel('popularity score')\n",
        "plt.legend()"
      ],
      "execution_count": 339,
      "outputs": [
        {
          "output_type": "execute_result",
          "data": {
            "text/plain": [
              "<matplotlib.legend.Legend at 0x7fe63116ed30>"
            ]
          },
          "metadata": {
            "tags": []
          },
          "execution_count": 339
        },
        {
          "output_type": "display_data",
          "data": {
            "image/png": "[encoded data removed]",
            "text/plain": [
              "<Figure size 432x288 with 1 Axes>"
            ]
          },
          "metadata": {
            "tags": [],
            "needs_background": "light"
          }
        }
      ]
    },
    {
      "cell_type": "markdown",
      "metadata": {
        "id": "k1W1WAOUl2jl"
      },
      "source": [
        "It appears small companies never made any movies that are within the top 100 popular movies.\n",
        "\n",
        "However, looking at our graph, it appears that starting from the 40th most popular movie, there really isn't a large discrepency that proves small companies make only non-popular movies. \n",
        "\n",
        "Therefore, we can disregard production companies as a factor for recommending movies. \n"
      ]
    },
    {
      "cell_type": "code",
      "metadata": {
        "id": "9PgPCAro_UbZ"
      },
      "source": [
        "movies_df.drop(columns = ['production_companies'], inplace=True)"
      ],
      "execution_count": 340,
      "outputs": []
    },
    {
      "cell_type": "markdown",
      "metadata": {
        "id": "UyqKEywnnP7B"
      },
      "source": [
        "So now let's look at the genre column."
      ]
    },
    {
      "cell_type": "code",
      "metadata": {
        "colab": {
          "base_uri": "https://localhost:8080/",
          "height": 414
        },
        "id": "E_e-oMTrje68",
        "outputId": "7f7a98a8-7b0d-423c-c2fe-e2fc70e0ad30"
      },
      "source": [
        "all_genres = {}\n",
        "\n",
        "for i in range(number_of_rows):\n",
        "  for genre in movies_df['genres'].iloc[i]:\n",
        "    all_genres[genre] = all_genres.get(genre, 0) + 1\n",
        "\n",
        "sns.barplot(list(all_genres.keys()), list(all_genres.values()))\n",
        "plt.xticks(rotation=70)\n",
        "plt.xlabel('genres')\n",
        "plt.ylabel('count')  "
      ],
      "execution_count": 341,
      "outputs": [
        {
          "output_type": "stream",
          "text": [
            "/usr/local/lib/python3.6/dist-packages/seaborn/_decorators.py:43: FutureWarning: Pass the following variables as keyword args: x, y. From version 0.12, the only valid positional argument will be `data`, and passing other arguments without an explicit keyword will result in an error or misinterpretation.\n",
            "  FutureWarning\n"
          ],
          "name": "stderr"
        },
        {
          "output_type": "execute_result",
          "data": {
            "text/plain": [
              "Text(0, 0.5, 'count')"
            ]
          },
          "metadata": {
            "tags": []
          },
          "execution_count": 341
        },
        {
          "output_type": "display_data",
          "data": {
            "image/png": "[encoded data removed]",
            "text/plain": [
              "<Figure size 432x288 with 1 Axes>"
            ]
          },
          "metadata": {
            "tags": [],
            "needs_background": "light"
          }
        }
      ]
    },
    {
      "cell_type": "markdown",
      "metadata": {
        "id": "NI1vUKFInVQM"
      },
      "source": [
        "It appears that there are a total of 20 genres.\n",
        "\n",
        "The most popular genre is 'Drama', and the least popular is 'Foreign'. \n",
        "\n",
        "So let's discover how each user in ratings_df rates each category based on the movies they rated. "
      ]
    },
    {
      "cell_type": "code",
      "metadata": {
        "id": "QVIwV4a3raSi"
      },
      "source": [
        "# Step 1 : create a copy of ratings_df and merge genres from movies_df\n",
        "genres_df = ratings_df.copy(deep=True)\n",
        "movies_df['genres'] = movies_df['genres'].apply(lambda x : str(x))\n",
        "\n",
        "query = '''\n",
        "select *\n",
        "from genres_df as g\n",
        "join movies_df as m\n",
        "on g.movieId = m.id\n",
        "'''\n",
        "\n",
        "genres_df = ps.sqldf(query, locals())\n",
        "genres_df.drop(columns=['id', 'keywords', 'popularity',\\\n",
        "                        'vote_average', 'vote_count',\n",
        "                        'movieId', 'title'], inplace=True)\n",
        "genres_df.sort_values(by=['userId'], inplace=True)\n",
        "\n",
        "movies_df['genres'] = movies_df['genres'].apply(lambda x : eval(\"[\" + x[1:-1] + \"]\")) \n",
        "genres_df['genres'] = genres_df['genres'].apply(lambda x : eval(\"[\" + x[1:-1] + \"]\")) "
      ],
      "execution_count": 342,
      "outputs": []
    },
    {
      "cell_type": "code",
      "metadata": {
        "id": "FrB5JhQYtfBf"
      },
      "source": [
        "# Step 2 : append all the genres as columns \n",
        "number_of_rows = genres_df.count()[0]\n",
        "\n",
        "for genre in all_genres.keys():\n",
        "  genres_df[genre] = [0 for _ in range(number_of_rows)]"
      ],
      "execution_count": 343,
      "outputs": []
    },
    {
      "cell_type": "code",
      "metadata": {
        "colab": {
          "base_uri": "https://localhost:8080/"
        },
        "id": "yiJLCponvnNW",
        "outputId": "16643bde-fac7-4506-f48c-aab4eca9ca01"
      },
      "source": [
        "# Step 3 : assign scores to the columns \n",
        "for i in range(number_of_rows):\n",
        "  for genre in genres_df['genres'].iloc[i]:  \n",
        "    genres_df[genre].iloc[i] += 1"
      ],
      "execution_count": 344,
      "outputs": [
        {
          "output_type": "stream",
          "text": [
            "/usr/local/lib/python3.6/dist-packages/pandas/core/indexing.py:670: SettingWithCopyWarning: \n",
            "A value is trying to be set on a copy of a slice from a DataFrame\n",
            "\n",
            "See the caveats in the documentation: https://pandas.pydata.org/pandas-docs/stable/user_guide/indexing.html#returning-a-view-versus-a-copy\n",
            "  iloc._setitem_with_indexer(indexer, value)\n"
          ],
          "name": "stderr"
        }
      ]
    },
    {
      "cell_type": "code",
      "metadata": {
        "id": "eqpMdQEFDkHf"
      },
      "source": [
        "# Step 4 : group by to average\n",
        "genres_df.drop(columns=['rating','genres'], inplace=True)\n",
        "\n",
        "query = '''\n",
        "select userId, avg(Animation) as avg_animation, avg(Comedy) as avg_comedy,\n",
        "avg(Family) as avg_family, avg(Action) as avg_action, avg(Crime) as avg_crime,\n",
        "avg(Drama) as avg_drama, avg(Thriller) as avg_thriller, avg(Romance) as avg_romance,\n",
        "avg(\"Science Fiction\") as avg_science_fiction, avg(Mystery) as avg_mystery, \n",
        "avg(Music) as avg_music, avg(Horror) as avg_horror, avg(War) as avg_war, \n",
        "avg(Documentary) as avg_documentary, avg(Western) as avg_western, \n",
        "avg(\"Foreign\") as avg_foreign, avg(\"TV Movie\") as avg_tv_movie\n",
        "from genres_df\n",
        "group by userId\n",
        "'''\n",
        "\n",
        "genres_df = ps.sqldf(query, locals())"
      ],
      "execution_count": 345,
      "outputs": []
    },
    {
      "cell_type": "code",
      "metadata": {
        "id": "WbonfydQc-wb"
      },
      "source": [
        "# Leaving a note for Kelly and Henry ! \n",
        "\n",
        "# We eventually want to have a dataset with a really long column that looks like \n",
        "# userID | movie1 movie2 movie3 .. | genre1 genre2 ... | keyword1 keyword2 .. | ....\n",
        "# (or maybe we don't if we can come up with other ideas!)\n",
        "\n",
        "# You can imagine that this will be a LOT of columns, so we do need to minimize that \n",
        "# We can think of some criteria to shorten the number of movies together at a later stage \n",
        "# What we can do as of now is find frequent keywords (and maybe create a word cloud)\n",
        "# and get rid of infrequent keywords \n",
        "\n",
        "# Maybe at a later stage, we can think of some way to do sentiment analysis to separate the \n",
        "# keywords into discrete categories (category 1, category 2 etc.) to shorten columns further  "
      ],
      "execution_count": 151,
      "outputs": []
    },
    {
      "cell_type": "code",
      "metadata": {
        "id": "LyvSgpE2We66"
      },
      "source": [
        "# We currently have these 3 data frames\n",
        "movies_df\n",
        "ratings_df\n",
        "genres_df"
      ],
      "execution_count": null,
      "outputs": []
    }
  ]
}